{
  "nbformat": 4,
  "nbformat_minor": 0,
  "metadata": {
    "colab": {
      "provenance": [],
      "include_colab_link": true
    },
    "kernelspec": {
      "name": "python3",
      "display_name": "Python 3"
    },
    "language_info": {
      "name": "python"
    },
    "accelerator": "GPU",
    "gpuClass": "standard"
  },
  "cells": [
    {
      "cell_type": "markdown",
      "metadata": {
        "id": "view-in-github",
        "colab_type": "text"
      },
      "source": [
        "<a href=\"https://colab.research.google.com/github/Christaynium/Stat170/blob/main/CS167Notebook6.ipynb\" target=\"_parent\"><img src=\"https://colab.research.google.com/assets/colab-badge.svg\" alt=\"Open In Colab\"/></a>"
      ]
    },
    {
      "cell_type": "markdown",
      "source": [
        "# Notebook #6\n",
        "Name: Chris Cavan\n"
      ],
      "metadata": {
        "id": "zqZo6gbJefy2"
      }
    },
    {
      "cell_type": "markdown",
      "source": [
        "## Problem Description:\n",
        "Describe the problem you are going to attempt to solve.\n",
        "Describe the tools used and your approach. "
      ],
      "metadata": {
        "id": "sK7vxZ2VenfW"
      }
    },
    {
      "cell_type": "markdown",
      "source": [
        "Based on a set of x-rays images we are looking to predict whether we can identify whether a patient has pneumonia or not based only off a image of an x-ray. Using tensor flow and keras we create our base model with the sigmoid activation function, with regions of 3X3 in an image, 32 feature maps, 2 convolution layers, 2 pooled layers and an epoch of 6. We will then use a tuned CNN model to see if we can improve upon that model. In the tuned model dropout layers, aditional kernels were added and features increased."
      ],
      "metadata": {
        "id": "t6eDFFoXTZ_d"
      }
    },
    {
      "cell_type": "code",
      "source": [
        "from google.colab import drive\n",
        "import pandas\n",
        "drive.mount('/content/drive')"
      ],
      "metadata": {
        "id": "Eu1oVdmgfE_1",
        "colab": {
          "base_uri": "https://localhost:8080/"
        },
        "outputId": "ccd5f0e4-df12-4752-bc6a-422629ebf204"
      },
      "execution_count": 21,
      "outputs": [
        {
          "output_type": "stream",
          "name": "stdout",
          "text": [
            "Drive already mounted at /content/drive; to attempt to forcibly remount, call drive.mount(\"/content/drive\", force_remount=True).\n"
          ]
        }
      ]
    },
    {
      "cell_type": "code",
      "source": [
        "# attempt to get GPU reserved\n",
        "# In Google Colab, select Runtime -> Change runtime type\n",
        "# If possible, select GPU and SAVE\n",
        "# If not possible, OK. Computations may take a bit longer\n",
        "import tensorflow as tf\n",
        "device_name = tf.test.gpu_device_name()\n",
        "if device_name != '/device:GPU:0':\n",
        "  raise SystemError('GPU device not found')\n",
        "print('Found GPU at: {}'.format(device_name))"
      ],
      "metadata": {
        "id": "PCkq5nMZfEc_",
        "colab": {
          "base_uri": "https://localhost:8080/"
        },
        "outputId": "2541d696-5db7-4f83-abec-5cb7eff817cf"
      },
      "execution_count": 22,
      "outputs": [
        {
          "output_type": "stream",
          "name": "stdout",
          "text": [
            "Found GPU at: /device:GPU:0\n"
          ]
        }
      ]
    },
    {
      "cell_type": "code",
      "source": [
        "import keras\n",
        "print (\"TensorFlow version: \" + tf.__version__)\n",
        "print (\"Keras version: \" + keras.__version__)"
      ],
      "metadata": {
        "id": "236T4CkjO76V",
        "colab": {
          "base_uri": "https://localhost:8080/"
        },
        "outputId": "b4aaa842-abe9-40bd-f105-e0985d9a6102"
      },
      "execution_count": 23,
      "outputs": [
        {
          "output_type": "stream",
          "name": "stdout",
          "text": [
            "TensorFlow version: 2.9.2\n",
            "Keras version: 2.9.0\n"
          ]
        }
      ]
    },
    {
      "cell_type": "code",
      "execution_count": 24,
      "metadata": {
        "id": "Z_Mnt0ATea_Z"
      },
      "outputs": [],
      "source": [
        "#ignore warnings\n",
        "import warnings\n",
        "warnings.filterwarnings('ignore')"
      ]
    },
    {
      "cell_type": "code",
      "source": [
        "# import the libraries\n",
        "import keras\n",
        "import sys\n",
        "from matplotlib import pyplot\n",
        "from keras.models import Sequential\n",
        "from keras.layers import Conv2D\n",
        "from keras.layers import MaxPooling2D\n",
        "from keras.layers import Dense\n",
        "from keras.layers import Flatten\n",
        "from keras.preprocessing.image import ImageDataGenerator\n",
        "import sys"
      ],
      "metadata": {
        "id": "BQ2LBOmKfhqX"
      },
      "execution_count": 25,
      "outputs": []
    },
    {
      "cell_type": "markdown",
      "source": [
        "<hr>\n",
        "\n",
        "# Example code for Chest X-Ray"
      ],
      "metadata": {
        "id": "mNm7BTjafFRV"
      }
    },
    {
      "cell_type": "code",
      "source": [
        "# dimensions of our images.\n",
        "img_width = 200\n",
        "img_height = 200\n",
        "\n",
        "#the directories where our train and test data is\n",
        "train_data_dir = '/content/drive/MyDrive/Colab Notebooks/Data/chest_xray/train' #5216 images\n",
        "test_data_dir = '/content/drive/MyDrive/Colab Notebooks/Data/chest_xray/test'   #624 images\n",
        "\n",
        "#we will feed the training images to the neural network\n",
        "#in batches of 32 images at a time so we don't have \n",
        "#to load the entire data set into memory\n",
        "batch_size = 32\n"
      ],
      "metadata": {
        "id": "DRL2RVhKfrog"
      },
      "execution_count": 26,
      "outputs": []
    },
    {
      "cell_type": "code",
      "source": [
        "# used to rescale the pixel values from [0, 255] to between 0 and 1\n",
        "datagen = ImageDataGenerator(rescale=1.0/255.0)\n",
        "\n",
        "#These will look for our training and testing data\n",
        "#in their respective directory, and it will figure out\n",
        "#the class of each example based on the subfolder it is in\n",
        "train_data = datagen.flow_from_directory(\n",
        "        train_data_dir,\n",
        "        target_size=(img_width, img_height),\n",
        "        batch_size=batch_size,\n",
        "        class_mode='binary')\n",
        "\n",
        "test_data = datagen.flow_from_directory(\n",
        "        test_data_dir,\n",
        "        target_size=(img_width, img_height),\n",
        "        batch_size=batch_size,\n",
        "        class_mode='binary')"
      ],
      "metadata": {
        "id": "826WLAlsf3dJ",
        "colab": {
          "base_uri": "https://localhost:8080/"
        },
        "outputId": "ddd2ffbf-d0f5-4cf9-d114-cd593f3851e8"
      },
      "execution_count": 27,
      "outputs": [
        {
          "output_type": "stream",
          "name": "stdout",
          "text": [
            "Found 5235 images belonging to 2 classes.\n",
            "Found 636 images belonging to 2 classes.\n"
          ]
        }
      ]
    },
    {
      "cell_type": "code",
      "source": [
        "# Baseline CNN\n",
        "model = Sequential()\n",
        "model.add(Conv2D(32, (3, 3), activation = 'relu', input_shape=(img_width, img_height, 3)))\n",
        "model.add(MaxPooling2D(pool_size=(2,2)))\n",
        "\n",
        "model.add(Conv2D(32, (3, 3), activation = 'relu'))\n",
        "model.add(MaxPooling2D(pool_size=(2,2)))\n",
        "\n",
        "model.add(Flatten()) # flatten convolutional layer so ica go into a fully-connected layer\n",
        "model.add(Dense(32, activation='sigmoid')) #Fully-connected layer\n",
        "model.add(Dense(1,activation='sigmoid')) \n",
        "\n",
        "#compile model\n",
        "model.compile(optimizer=\"sgd\", loss='binary_crossentropy', metrics=['accuracy']) "
      ],
      "metadata": {
        "id": "ff-kzhThf4nZ"
      },
      "execution_count": 81,
      "outputs": []
    },
    {
      "cell_type": "code",
      "source": [
        "# train baseline model\n",
        "training_results = model.fit_generator(\n",
        "        train_data,\n",
        "        steps_per_epoch = len(train_data), \n",
        "        epochs=15,\n",
        "        validation_data = test_data,\n",
        "        validation_steps = len(test_data)\n",
        "        )"
      ],
      "metadata": {
        "id": "ENm8OTzWQpCc",
        "outputId": "705a48ab-e823-4b65-fe5b-dfefda82a1f9",
        "colab": {
          "base_uri": "https://localhost:8080/"
        }
      },
      "execution_count": 94,
      "outputs": [
        {
          "output_type": "stream",
          "name": "stdout",
          "text": [
            "Epoch 1/15\n",
            "164/164 [==============================] - 14s 87ms/step - loss: 0.0699 - accuracy: 0.9765 - val_loss: 1.0865 - val_accuracy: 0.7296\n",
            "Epoch 2/15\n",
            "164/164 [==============================] - 14s 86ms/step - loss: 0.0696 - accuracy: 0.9742 - val_loss: 0.9490 - val_accuracy: 0.7453\n",
            "Epoch 3/15\n",
            "164/164 [==============================] - 14s 86ms/step - loss: 0.0707 - accuracy: 0.9742 - val_loss: 0.9550 - val_accuracy: 0.7610\n",
            "Epoch 4/15\n",
            "164/164 [==============================] - 15s 89ms/step - loss: 0.0661 - accuracy: 0.9773 - val_loss: 0.7554 - val_accuracy: 0.7909\n",
            "Epoch 5/15\n",
            "164/164 [==============================] - 15s 88ms/step - loss: 0.0659 - accuracy: 0.9771 - val_loss: 1.0340 - val_accuracy: 0.7374\n",
            "Epoch 6/15\n",
            "164/164 [==============================] - 14s 87ms/step - loss: 0.0669 - accuracy: 0.9773 - val_loss: 0.8420 - val_accuracy: 0.7767\n",
            "Epoch 7/15\n",
            "164/164 [==============================] - 14s 87ms/step - loss: 0.0672 - accuracy: 0.9769 - val_loss: 1.0054 - val_accuracy: 0.7406\n",
            "Epoch 8/15\n",
            "164/164 [==============================] - 17s 102ms/step - loss: 0.0635 - accuracy: 0.9794 - val_loss: 1.0090 - val_accuracy: 0.7453\n",
            "Epoch 9/15\n",
            "164/164 [==============================] - 14s 87ms/step - loss: 0.0608 - accuracy: 0.9794 - val_loss: 1.0960 - val_accuracy: 0.7233\n",
            "Epoch 10/15\n",
            "164/164 [==============================] - 15s 88ms/step - loss: 0.0615 - accuracy: 0.9790 - val_loss: 0.9806 - val_accuracy: 0.7516\n",
            "Epoch 11/15\n",
            "164/164 [==============================] - 14s 87ms/step - loss: 0.0641 - accuracy: 0.9773 - val_loss: 0.7617 - val_accuracy: 0.7925\n",
            "Epoch 12/15\n",
            "164/164 [==============================] - 14s 86ms/step - loss: 0.0580 - accuracy: 0.9794 - val_loss: 0.7872 - val_accuracy: 0.7877\n",
            "Epoch 13/15\n",
            "164/164 [==============================] - 14s 87ms/step - loss: 0.0605 - accuracy: 0.9784 - val_loss: 0.8168 - val_accuracy: 0.7799\n",
            "Epoch 14/15\n",
            "164/164 [==============================] - 14s 87ms/step - loss: 0.0576 - accuracy: 0.9807 - val_loss: 0.8885 - val_accuracy: 0.7720\n",
            "Epoch 15/15\n",
            "164/164 [==============================] - 14s 88ms/step - loss: 0.0605 - accuracy: 0.9782 - val_loss: 0.9420 - val_accuracy: 0.7610\n"
          ]
        }
      ]
    },
    {
      "cell_type": "code",
      "source": [
        "#plot of baseline model\n",
        "\n",
        "import matplotlib.pyplot as plt\n",
        "%matplotlib inline\n",
        "plt.plot(training_results.history['accuracy'])\n",
        "plt.plot(training_results.history['val_accuracy'])\n",
        "plt.title('base model accuracy')\n",
        "plt.ylabel('accuracy')\n",
        "plt.xlabel('epoch')\n",
        "plt.legend(['train', 'test'], loc='upper left')\n",
        "plt.show()"
      ],
      "metadata": {
        "id": "ENMysCxRVRU7",
        "outputId": "8de700a4-cf3e-46ff-f294-cb0021caabab",
        "colab": {
          "base_uri": "https://localhost:8080/",
          "height": 295
        }
      },
      "execution_count": 95,
      "outputs": [
        {
          "output_type": "display_data",
          "data": {
            "text/plain": [
              "<Figure size 432x288 with 1 Axes>"
            ],
            "image/png": "[encoded data removed]"
          },
          "metadata": {
            "needs_background": "light"
          }
        }
      ]
    },
    {
      "cell_type": "code",
      "source": [
        "from keras.layers import Dropout\n",
        "\n",
        "# tuned CNN\n",
        "model2 = Sequential()\n",
        "model2.add(Conv2D(32, (3, 3), activation = 'relu', input_shape=(img_width, img_height, 3)))\n",
        "model2.add(Dropout(.2,(64,)))\n",
        "model2.add(MaxPooling2D(pool_size=(2,2)))\n",
        "\n",
        "model2.add(Conv2D(64, (3, 3), activation = 'relu'))\n",
        "model2.add(Dropout(.2,(64,)))\n",
        "model2.add(MaxPooling2D(pool_size=(2,2)))\n",
        "\n",
        "model2.add(Conv2D(128, (3, 3), activation = 'relu'))\n",
        "model2.add(Dropout(.2,(64,)))\n",
        "\n",
        "model2.add(Flatten())\n",
        "model2.add(Dense(64, activation='sigmoid'))\n",
        "model2.add(Dense(1,activation='sigmoid')) \n",
        "\n",
        "#compile model\n",
        "model.compile(optimizer=\"sgd\", loss='binary_crossentropy', metrics=['accuracy']) "
      ],
      "metadata": {
        "id": "gaJnVIbEgSdu"
      },
      "execution_count": 113,
      "outputs": []
    },
    {
      "cell_type": "code",
      "source": [
        "# train tuned model\n",
        "training_results2 = model.fit_generator(\n",
        "        train_data,\n",
        "        steps_per_epoch = len(train_data), \n",
        "        epochs=5,\n",
        "        validation_data = test_data,\n",
        "        validation_steps = len(test_data)\n",
        "        )"
      ],
      "metadata": {
        "id": "pQKBa1qNgXiX",
        "outputId": "1d6e6aa1-9268-4b3c-f89b-64dfc8554794",
        "colab": {
          "base_uri": "https://localhost:8080/"
        }
      },
      "execution_count": 118,
      "outputs": [
        {
          "output_type": "stream",
          "name": "stdout",
          "text": [
            "Epoch 1/5\n",
            "164/164 [==============================] - 14s 85ms/step - loss: 0.0234 - accuracy: 0.9935 - val_loss: 0.8627 - val_accuracy: 0.7940\n",
            "Epoch 2/5\n",
            "164/164 [==============================] - 14s 86ms/step - loss: 0.0232 - accuracy: 0.9933 - val_loss: 1.1125 - val_accuracy: 0.7531\n",
            "Epoch 3/5\n",
            "164/164 [==============================] - 14s 85ms/step - loss: 0.0203 - accuracy: 0.9947 - val_loss: 1.1080 - val_accuracy: 0.7563\n",
            "Epoch 4/5\n",
            "164/164 [==============================] - 14s 85ms/step - loss: 0.0164 - accuracy: 0.9973 - val_loss: 0.8637 - val_accuracy: 0.8019\n",
            "Epoch 5/5\n",
            "164/164 [==============================] - 15s 89ms/step - loss: 0.0161 - accuracy: 0.9968 - val_loss: 1.0611 - val_accuracy: 0.7704\n"
          ]
        }
      ]
    },
    {
      "cell_type": "code",
      "source": [
        "#plot of baseline model\n",
        "\n",
        "import matplotlib.pyplot as plt\n",
        "%matplotlib inline\n",
        "plt.plot(training_results2.history['accuracy'])\n",
        "plt.plot(training_results2.history['val_accuracy'])\n",
        "plt.title('tunned model accuracy')\n",
        "plt.ylabel('accuracy')\n",
        "plt.xlabel('epoch')\n",
        "plt.legend(['train', 'test'], loc='upper left')\n",
        "plt.show()"
      ],
      "metadata": {
        "id": "sYOLu1yihoy1",
        "outputId": "84398b63-6624-49ad-e0f0-a7e5b68d7677",
        "colab": {
          "base_uri": "https://localhost:8080/",
          "height": 295
        }
      },
      "execution_count": 119,
      "outputs": [
        {
          "output_type": "display_data",
          "data": {
            "text/plain": [
              "<Figure size 432x288 with 1 Axes>"
            ],
            "image/png": "[encoded data removed]"
          },
          "metadata": {
            "needs_background": "light"
          }
        }
      ]
    },
    {
      "cell_type": "markdown",
      "source": [
        "## Conclusion<br>\n",
        "The addition of the dropout layers and the increse of features, kernels, and pooling layers, appears to only slightly increase the accuracy to be more consistant or about the same. There is overfitting as the model's accuracy is almost perfect in the training set, but only between .75 and at max about a bit over .8 accuracy at best on the test set, not much better over the base model.\n"
      ],
      "metadata": {
        "id": "8Rzvww634Ivr"
      }
    }
  ]
}